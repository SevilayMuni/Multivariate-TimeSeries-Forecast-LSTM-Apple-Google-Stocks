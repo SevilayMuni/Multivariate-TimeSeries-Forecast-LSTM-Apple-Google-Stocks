{
 "cells": [
  {
   "cell_type": "markdown",
   "id": "e13bda8d",
   "metadata": {},
   "source": [
    "<div style=\"background: linear-gradient(45deg,  #FF8C00, #FFD700, #006400); padding: 18px; border-radius: 10px; text-align: center; background-color: black; color: black;\"> <h1 style=\"font-size: 32px;\"> LSTM MODEL for GOOGLE STOCK FORECASTING</h1>  \n",
    "    \n",
    "</div>"
   ]
  },
  {
   "cell_type": "markdown",
   "id": "14ea6aaa",
   "metadata": {},
   "source": [
    "<div style=\"background: linear-gradient(45deg, #FF8C00, #006400); padding: 18px; border-radius: 20px; text-align: center; background-color: black; color: black;\"> <h1 style=\"font-size: 24px;\"> Setting To Obtain Stable Results</h1>  \n",
    "    \n",
    "</div>"
   ]
  },
  {
   "cell_type": "code",
   "execution_count": null,
   "id": "9a65c694",
   "metadata": {
    "scrolled": true
   },
   "outputs": [],
   "source": [
    "import tensorflow as tf\n",
    "import os\n",
    "import numpy as np\n",
    "import random\n",
    "\n",
    "SEED = 0"
   ]
  },
  {
   "cell_type": "code",
   "execution_count": null,
   "id": "452f2e04",
   "metadata": {},
   "outputs": [],
   "source": [
    "def set_seeds(seed=SEED):\n",
    "    os.environ['PYTHONHASHSEED'] = str(seed)\n",
    "    random.seed(seed)\n",
    "    tf.random.set_seed(seed)\n",
    "    np.random.seed(seed)"
   ]
  },
  {
   "cell_type": "code",
   "execution_count": null,
   "id": "ea1ed9fd",
   "metadata": {},
   "outputs": [],
   "source": [
    "def set_global_determinism(seed=SEED):\n",
    "    set_seeds(seed=seed)\n",
    "\n",
    "    os.environ['TF_DETERMINISTIC_OPS'] = '1'\n",
    "    os.environ['TF_CUDNN_DETERMINISTIC'] = '1'\n",
    "    \n",
    "    tf.config.threading.set_inter_op_parallelism_threads(1)\n",
    "    tf.config.threading.set_intra_op_parallelism_threads(1)\n",
    "\n",
    "# Call the above function with seed value\n",
    "set_global_determinism(seed = SEED)"
   ]
  },
  {
   "cell_type": "markdown",
   "id": "9732e21e",
   "metadata": {},
   "source": [
    "## Important !\n",
    "\n",
    "1. Please run cells above before executing any other code.\n",
    "2. Model training might become slower since the code is deterministic -- a tradeoff.\n",
    "3. The code belongs to stack overflow user Dan to [Question](https://stackoverflow.com/questions/36288235/how-to-get-stable-results-with-tensorflow-setting-random-seed)"
   ]
  },
  {
   "cell_type": "markdown",
   "id": "084b3158",
   "metadata": {},
   "source": [
    "<div style=\"background: linear-gradient(45deg, #FF8C00, #006400); padding: 18px; border-radius: 20px; text-align: center; background-color: black; color: black;\"> <h1 style=\"font-size: 24px;\"> Importing Libraries</h1>  \n",
    "    \n",
    "</div>"
   ]
  },
  {
   "cell_type": "code",
   "execution_count": null,
   "id": "5e4f8e75",
   "metadata": {},
   "outputs": [],
   "source": [
    "# Following commands might be needed for installations. Restart kernel after installations!\n",
    "\n",
    "# conda install -c anaconda pandas-datareader\n",
    "# !pip install yfinance\n",
    "# !pip install pandas-ta"
   ]
  },
  {
   "cell_type": "code",
   "execution_count": null,
   "id": "e9b2628c",
   "metadata": {},
   "outputs": [],
   "source": [
    "# Import libraries\n",
    "import pandas as pd\n",
    "import numpy as np\n",
    "import pandas_ta\n",
    "\n",
    "import matplotlib.pyplot as plt\n",
    "import seaborn as sns\n",
    "\n",
    "# For reading stock data from yahoo\n",
    "import pandas_datareader as pdr\n",
    "import yfinance as yf\n",
    "\n",
    "# For time stamps\n",
    "from datetime import datetime\n",
    "\n",
    "# For scaler and model evaluation\n",
    "from sklearn.preprocessing import MinMaxScaler\n",
    "from sklearn.metrics import mean_absolute_error, mean_absolute_percentage_error\n",
    "from sklearn.metrics import mean_squared_error, r2_score\n",
    "\n",
    "# For model building\n",
    "from tensorflow.keras.optimizers import Adam\n",
    "from tensorflow.keras.models import Model\n",
    "from tensorflow.keras.models import Sequential\n",
    "from tensorflow.keras.layers import LSTM\n",
    "from tensorflow.keras.layers import Dense, Dropout\n",
    "from keras.models import load_model\n",
    "from keras.wrappers.scikit_learn import KerasRegressor\n",
    "from sklearn.model_selection import GridSearchCV"
   ]
  },
  {
   "cell_type": "markdown",
   "id": "ebf00eee",
   "metadata": {},
   "source": [
    "<div style=\"background: linear-gradient(45deg, #FF8C00, #006400); padding: 18px; border-radius: 20px; text-align: center; background-color: black; color: black;\"> <h1 style=\"font-size: 24px;\"> Loading Dataset</h1>  \n",
    "    \n",
    "</div>"
   ]
  },
  {
   "cell_type": "markdown",
   "id": "a57bce54",
   "metadata": {},
   "source": [
    "## !!! Downloading data from yahoo finance and feature engineering were conducted as protocol in the Apple Model notebook. To minimize the code cluster, I will import the saved csv."
   ]
  },
  {
   "cell_type": "code",
   "execution_count": null,
   "id": "1a46893b",
   "metadata": {
    "scrolled": false
   },
   "outputs": [],
   "source": [
    "df_google = pd.read_csv('google-stock-price-20-yr.csv', delimiter = ',', index_col = 'date')\n",
    "df_google.index = pd.to_datetime(df_google.index)\n",
    "df_google.head(5)"
   ]
  },
  {
   "cell_type": "markdown",
   "id": "870a79cc",
   "metadata": {},
   "source": [
    "<div style=\"background: linear-gradient(45deg,  #FF8C00, #FFD700, #006400); padding: 18px; border-radius: 10px; text-align: center; background-color: black; color: black;\"> <h1 style=\"font-size: 32px;\"> DATA VISUALIZATION: TRENDS & RELATIONS </h1>  \n",
    "    \n",
    "</div>"
   ]
  },
  {
   "cell_type": "markdown",
   "id": "6dc6390d",
   "metadata": {},
   "source": [
    "### Hence plotting 20 years challenges the interpretation of the stock's performance and movement over time; graphs will be plotted seperately based on time intervals.\n",
    "\n",
    "***\n",
    "**interval 1** = 2004-2008\n",
    "\n",
    "**interval 2** = 2008-2012 -- *real estate crisis & recovery* \n",
    "\n",
    "**interval 3** = 2012-2019 -- *till emergence of Covid-19*\n",
    "\n",
    "**interval 4** = 2019-2022 -- *Covid-19 period*\n",
    "\n",
    "**interval 5** = 2022-2024 -- *post Covid-19 & recovery period*\n",
    "***"
   ]
  },
  {
   "cell_type": "code",
   "execution_count": null,
   "id": "12640459",
   "metadata": {},
   "outputs": [],
   "source": [
    "# Historical view on Adjusted Closing Prices during particular intervals (see code)\n",
    "\n",
    "sns.set_style('whitegrid')\n",
    "fig, axs = plt.subplots(3, 1, figsize = (12, 12))\n",
    "\n",
    "axs[0].plot(df_google.loc['2007': '2011', 'adj_close'], color = 'gold')\n",
    "axs[0].set_title('Google Stock In Pre & Real Estate Crisis (2007 & 11)',\n",
    "                 fontsize = 15, fontweight = 'bold', pad = 12)\n",
    "axs[0].axvline(x = pd.to_datetime('2008-01'), color = 'red', linestyle = '--', label = 'Year 2008')\n",
    "\n",
    "\n",
    "axs[1].plot(df_google.loc['2012': '2016', 'adj_close'], color = 'gold')\n",
    "axs[1].set_title('Google Stock In Recovery Era (2012 & 16)',\n",
    "                 fontsize = 15, fontweight = 'bold', pad = 12)\n",
    "\n",
    "\n",
    "axs[2].plot(df_google.loc['2019': '2023', 'adj_close'], color = 'gold')\n",
    "axs[2].set_title('Google Stock In Pre & Post Covid-19 Era (2019 & 2023)',\n",
    "                 fontsize = 15, fontweight = 'bold', pad = 12)\n",
    "axs[2].axvline(x = pd.to_datetime('2020-03'), color = 'red', linestyle = '--', label = 'CRISIS')\n",
    "\n",
    "for ax in axs.flat:\n",
    "    ax.set(ylabel = 'Adjusted Closing Price')\n",
    "\n",
    "\n",
    "plt.tight_layout()\n",
    "plt.legend()\n",
    "sns.despine()\n",
    "plt.show()"
   ]
  },
  {
   "cell_type": "code",
   "execution_count": null,
   "id": "8b547dbe",
   "metadata": {},
   "outputs": [],
   "source": [
    "sns.set_style('whitegrid')\n",
    "fig, axs = plt.subplots(1, 2, figsize = (14, 6), layout = 'constrained')\n",
    "\n",
    "axs[0].plot(df_google.loc['2007': '2010', 'garman_klass_volatility'])\n",
    "axs[0].set_title('Real Estate Crisis (2007 & 10)', fontsize = 16, fontweight = 'bold', pad = 12)\n",
    "axs[0].axvline(x = pd.to_datetime('2008-01'), color = 'red', linestyle = '--', label = 'Year 2008')\n",
    "\n",
    "axs[1].plot(df_google.loc['2019': '2022', 'garman_klass_volatility'])\n",
    "axs[1].set_title('Covid-19 Era (2019 & 22)', fontsize = 16, fontweight = 'bold', pad = 12)\n",
    "axs[1].axvline(x = pd.to_datetime('2020-03'), color = 'red', linestyle = '--', label = 'CRISIS')\n",
    "\n",
    "for ax in axs.flat:\n",
    "    ax.set(ylabel = 'Garman Klass Volatility')\n",
    "\n",
    "sns.despine()  \n",
    "plt.legend()\n",
    "plt.show()"
   ]
  },
  {
   "cell_type": "code",
   "execution_count": null,
   "id": "9857c02f",
   "metadata": {},
   "outputs": [],
   "source": [
    "fig, axs = plt.subplots(1, 2, figsize = (14, 6), layout = 'constrained', sharey = True)\n",
    "\n",
    "axs[0].plot(df_google.loc['2007': '2010', 'dollar_volume'], 'tab:green')\n",
    "axs[0].set_title('Real Estate Crisis (2006 & 09)', fontsize = 16, fontweight = 'bold', pad = 12)\n",
    "axs[0].axvline(x = pd.to_datetime('2008-01'), color = 'red', linestyle = '--', label = 'Year 2008')\n",
    "\n",
    "axs[1].plot(df_google.loc['2019': '2022', 'dollar_volume'], 'tab:green')\n",
    "axs[1].set_title('Covid-19 Era (2019 & 22)', fontsize = 16, fontweight = 'bold', pad = 12)\n",
    "axs[1].axvline(x = pd.to_datetime('2020-03'), color = 'red', linestyle = '--', label = 'CRISIS')\n",
    "\n",
    "fig.suptitle('Historical View on Google Stock Volumes',\n",
    "             fontsize = 20, fontweight = 'bold')\n",
    "\n",
    "for ax in axs.flat:\n",
    "    ax.set(ylabel = 'Dollar Volume ')\n",
    "\n",
    "sns.despine()\n",
    "plt.legend()\n",
    "plt.show()"
   ]
  },
  {
   "cell_type": "code",
   "execution_count": null,
   "id": "6097e75b",
   "metadata": {},
   "outputs": [],
   "source": [
    "fig, axs = plt.subplots(3, 1, figsize = (12, 15), layout = 'constrained')\n",
    "\n",
    "axs[0].plot(df_google.loc['2005': '2010', 'obv'], color = 'darkcyan')\n",
    "axs[0].set_title('Real Estate Crisis (2005 & 10)', fontsize = 16, fontweight = 'bold', pad = 12)\n",
    "axs[0].axvline(x = pd.to_datetime('2008-01'), color = 'red', linestyle = '--', label = 'Year 2008')\n",
    "\n",
    "axs[1].plot(df_google.loc['2011': '2016', 'obv'], color = 'darkcyan')\n",
    "axs[1].set_title('Recovery Era (2011 & 16)', fontsize = 16, fontweight = 'bold', pad = 12)\n",
    "axs[1].axvline(x = pd.to_datetime('2012-04'), color = 'red', linestyle = '--', label = 'Year 2012')\n",
    "\n",
    "axs[2].plot(df_google.loc['2018': '2023', 'obv'], color = 'darkcyan')\n",
    "axs[2].set_title('Pre & Post Covid-19 Era (2018 & 23)', fontsize = 16, fontweight = 'bold', pad = 12)\n",
    "axs[2].axvline(x = pd.to_datetime('2020-03'), color = 'red', linestyle = '--', label = 'CRISIS')\n",
    "\n",
    "fig.suptitle('Historical View on Google On-Balance Volume',\n",
    "             fontsize = 20, fontweight = 'bold')\n",
    "\n",
    "for ax in axs.flat:\n",
    "    ax.set(ylabel = 'On-balance volume (OBV)')\n",
    "\n",
    "sns.despine()\n",
    "plt.legend()\n",
    "plt.show()"
   ]
  },
  {
   "cell_type": "code",
   "execution_count": null,
   "id": "5b7cc0e4",
   "metadata": {},
   "outputs": [],
   "source": [
    "fig, axs = plt.subplots(3, 1, figsize = (12, 15), layout = 'constrained')\n",
    "\n",
    "axs[0].plot(df_google.loc['2005': '2010', 'macd'], color = 'violet')\n",
    "axs[0].set_title('Real Estate Crisis (2005 & 10)', fontsize = 16, fontweight = 'bold', pad = 12)\n",
    "axs[0].axvline(x = pd.to_datetime('2008-01'), color = 'red', linestyle = '--', label = 'Year 2008')\n",
    "\n",
    "axs[1].plot(df_google.loc['2011': '2016', 'macd'], color = 'violet')\n",
    "axs[1].set_title('Recovery Era (2011 & 16)', fontsize = 16, fontweight = 'bold', pad = 12)\n",
    "axs[1].axvline(x = pd.to_datetime('2012-04'), color = 'red', linestyle = '--', label = 'Year 2012')\n",
    "\n",
    "axs[2].plot(df_google.loc['2018': '2023', 'macd'], color = 'violet')\n",
    "axs[2].set_title('Pre & Post Covid-19 Era (2018 & 23)', fontsize = 16, fontweight = 'bold', pad = 12)\n",
    "axs[2].axvline(x = pd.to_datetime('2020-03'), color = 'red', linestyle = '--', label = 'CRISIS')\n",
    "\n",
    "fig.suptitle('Historical View on Google Stock MACD',\n",
    "             fontsize = 20, fontweight = 'bold')\n",
    "\n",
    "for ax in axs.flat:\n",
    "    ax.set(ylabel = 'MACD')\n",
    "\n",
    "sns.despine()\n",
    "plt.legend()\n",
    "plt.show()"
   ]
  },
  {
   "cell_type": "code",
   "execution_count": null,
   "id": "e38d0c6a",
   "metadata": {},
   "outputs": [],
   "source": [
    "sns.set_style('white')\n",
    "\n",
    "fig, ax1 = plt.subplots(figsize = (8, 5))\n",
    "ax2 = ax1.twinx()\n",
    "\n",
    "ax1.plot(df_google.loc['2006': '2010', 'macd'], color = 'crimson', lw = 1.5)\n",
    "ax2.plot(df_google.loc['2006': '2010', 'adj_close'], color = 'gold', lw = 1.5)\n",
    "\n",
    "ax1.set_ylabel('MACD', color = 'crimson', fontsize = 12)\n",
    "ax1.tick_params(axis = 'y', labelcolor = 'crimson')\n",
    "\n",
    "ax2.set_ylabel('Adjusted Closing Price($)', color = 'gold', fontsize = 12)\n",
    "ax2.tick_params(axis = 'y', labelcolor = 'gold')\n",
    "\n",
    "fig.suptitle('Google Stock MACD vs Closing Price (2006 & 10)', fontweight = 'bold', fontsize = 16)\n",
    "fig.autofmt_xdate()\n",
    "\n",
    "plt.show()"
   ]
  },
  {
   "cell_type": "code",
   "execution_count": null,
   "id": "06c8a932",
   "metadata": {},
   "outputs": [],
   "source": [
    "sns.set_style('white')\n",
    "\n",
    "fig, ax1 = plt.subplots(figsize = (8, 5))\n",
    "ax2 = ax1.twinx()\n",
    "\n",
    "ax1.plot(df_google.loc['2019': '2023', 'macd'], color = 'crimson', lw = 1.4)\n",
    "ax2.plot(df_google.loc['2019': '2023', 'adj_close'], color = 'gold', lw = 1.5)\n",
    "\n",
    "ax1.set_ylabel('MACD', color = 'crimson', fontsize = 12)\n",
    "ax1.tick_params(axis = 'y', labelcolor = 'crimson')\n",
    "\n",
    "ax2.set_ylabel('Adjusted Closing Price($)', color = 'gold', fontsize = 12)\n",
    "ax2.tick_params(axis = 'y', labelcolor = 'gold')\n",
    "\n",
    "fig.suptitle('Google Stock MACD vs Closing Price (2019 & 23)', fontweight = 'bold', fontsize = 16)\n",
    "fig.autofmt_xdate()\n",
    "\n",
    "plt.show()"
   ]
  },
  {
   "cell_type": "code",
   "execution_count": null,
   "id": "09641bfe",
   "metadata": {
    "scrolled": false
   },
   "outputs": [],
   "source": [
    "fig, ax1 = plt.subplots(figsize = (8, 5))\n",
    "ax2 = ax1.twinx()\n",
    "\n",
    "ax1.plot(df_google.loc['2006': '2010', 'volume'], color = 'slategray', lw = 1.3)\n",
    "ax2.plot(df_google.loc['2006': '2010', 'adj_close'], color = 'gold', lw = 1.5)\n",
    "\n",
    "ax1.set_ylabel('Volume', color = 'slategray', fontsize = 12)\n",
    "ax1.tick_params(axis = 'y', labelcolor = 'slategray')\n",
    "\n",
    "ax2.set_ylabel('Adjusted Closing Price($)', color = 'gold', fontsize = 12)\n",
    "ax2.tick_params(axis = 'y', labelcolor = 'gold')\n",
    "\n",
    "fig.suptitle('Google Stock Volume vs Closing Price (2006 & 10)', fontweight = 'bold', fontsize = 16)\n",
    "fig.autofmt_xdate()\n",
    "\n",
    "plt.show()"
   ]
  },
  {
   "cell_type": "code",
   "execution_count": null,
   "id": "5a277f8b",
   "metadata": {},
   "outputs": [],
   "source": [
    "fig, ax1 = plt.subplots(figsize = (8, 5))\n",
    "ax2 = ax1.twinx()\n",
    "\n",
    "ax1.plot(df_google.loc['2019': '2023', 'volume'], color = 'slategray', lw = 1.3)\n",
    "ax2.plot(df_google.loc['2019': '2023', 'adj_close'], color = 'gold', lw = 1.5)\n",
    "\n",
    "ax1.set_ylabel('Volume', color = 'slategray', fontsize = 12)\n",
    "ax1.tick_params(axis = 'y', labelcolor = 'slategray')\n",
    "\n",
    "ax2.set_ylabel('Adjusted Closing Price($)', color = 'gold', fontsize = 12)\n",
    "ax2.tick_params(axis = 'y', labelcolor = 'gold')\n",
    "\n",
    "fig.suptitle('Google Stock Volume vs Closing Price (2019 & 23)', fontweight = 'bold', fontsize = 16)\n",
    "fig.autofmt_xdate()\n",
    "\n",
    "plt.show()"
   ]
  },
  {
   "cell_type": "code",
   "execution_count": null,
   "id": "3b1a6416",
   "metadata": {},
   "outputs": [],
   "source": [
    "fig, ax1 = plt.subplots(figsize = (8, 5))\n",
    "ax2 = ax1.twinx()\n",
    "\n",
    "ax1.plot(df_google.loc['2006': '2010', 'obv'], color = 'darkcyan', lw = 1.5)\n",
    "ax2.plot(df_google.loc['2006': '2010', 'adj_close'], color = 'gold', lw = 1.5)\n",
    "\n",
    "ax1.set_ylabel('On-Balance Volume (OBV)', color = 'darkcyan', fontsize = 12)\n",
    "ax1.tick_params(axis = 'y', labelcolor = 'darkcyan')\n",
    "\n",
    "ax2.set_ylabel('Adjusted Closing Price($)', color = 'gold', fontsize = 12)\n",
    "ax2.tick_params(axis = 'y', labelcolor = 'gold')\n",
    "\n",
    "fig.suptitle('Google Stock On-Balance Volume vs Closing Price (2006 & 10)', fontweight = 'bold', fontsize = 16)\n",
    "fig.autofmt_xdate()\n",
    "\n",
    "plt.show()"
   ]
  },
  {
   "cell_type": "code",
   "execution_count": null,
   "id": "5166237a",
   "metadata": {},
   "outputs": [],
   "source": [
    "fig, ax1 = plt.subplots(figsize = (8, 5))\n",
    "ax2 = ax1.twinx()\n",
    "\n",
    "ax1.plot(df_google.loc['2013': '2017', 'obv'], color = 'darkcyan', lw = 1.5)\n",
    "ax2.plot(df_google.loc['2013': '2017', 'adj_close'], color = 'gold', lw = 1.5)\n",
    "\n",
    "ax1.set_ylabel('On-Balance Volume (OBV)', color = 'darkcyan', fontsize = 12)\n",
    "ax1.tick_params(axis = 'y', labelcolor = 'darkcyan')\n",
    "\n",
    "ax2.set_ylabel('Adjusted Closing Price($)', color = 'gold', fontsize = 12)\n",
    "ax2.tick_params(axis = 'y', labelcolor = 'gold')\n",
    "\n",
    "fig.suptitle('Google Stock On-Balance Volume vs Closing Price (2013 & 17)', fontweight = 'bold', fontsize = 16)\n",
    "fig.autofmt_xdate()\n",
    "\n",
    "plt.show()"
   ]
  },
  {
   "cell_type": "code",
   "execution_count": null,
   "id": "049eb0b4",
   "metadata": {},
   "outputs": [],
   "source": [
    "fig, ax1 = plt.subplots(figsize = (8, 5))\n",
    "ax2 = ax1.twinx()\n",
    "\n",
    "ax1.plot(df_google.loc['2019': '2023', 'obv'], color = 'darkcyan', lw = 1.5)\n",
    "ax2.plot(df_google.loc['2019': '2023', 'adj_close'], color = 'gold', lw = 1.5)\n",
    "\n",
    "ax1.set_ylabel('On-Balance Volume (OBV)', color = 'darkcyan', fontsize = 12)\n",
    "ax1.tick_params(axis = 'y', labelcolor = 'darkcyan')\n",
    "\n",
    "ax2.set_ylabel('Adjusted Closing Price($)', color = 'gold', fontsize = 12)\n",
    "ax2.tick_params(axis = 'y', labelcolor = 'gold')\n",
    "\n",
    "fig.suptitle('Google Stock On-Balance Volume vs Closing Price (2019 & 23)', fontweight = 'bold', fontsize = 16)\n",
    "fig.autofmt_xdate()\n",
    "\n",
    "plt.show()"
   ]
  },
  {
   "cell_type": "code",
   "execution_count": null,
   "id": "b6fe7f7b",
   "metadata": {},
   "outputs": [],
   "source": [
    "sns.heatmap(df_google[['open', 'high', 'low', 'close', 'adj_close', \n",
    "                       'volume', 'garman_klass_volatility', 'dollar_volume', \n",
    "                       'obv', 'macd', 'ma_3_days', 'ma_5_days']].corr(),\n",
    "            annot = True, cbar = False, cmap = 'Oranges', fmt = '.1f')\n",
    "\n",
    "plt.title('Heatmap of Google Stock', fontsize = 14, fontweight = 'bold')\n",
    "plt.show()"
   ]
  },
  {
   "cell_type": "markdown",
   "id": "573622ca",
   "metadata": {},
   "source": [
    "<div style=\"background: linear-gradient(45deg,  #FF8C00, #FFD700, #006400); padding: 18px; border-radius: 10px; text-align: center; background-color: black; color: black;\"> <h1 style=\"font-size: 32px;\"> MODEL BUILDING & EVALUATION </h1>  \n",
    "    \n",
    "</div>"
   ]
  },
  {
   "cell_type": "markdown",
   "id": "0c1f655c",
   "metadata": {},
   "source": [
    "<div style=\"background: linear-gradient(45deg, #FF8C00, #006400); padding: 18px; border-radius: 20px; text-align: center; background-color: black; color: black;\"> <h1 style=\"font-size: 24px;\"> Dataset Preparation for LSTM Model</h1>  \n",
    "    \n",
    "</div>"
   ]
  },
  {
   "cell_type": "code",
   "execution_count": null,
   "id": "14f8cc09",
   "metadata": {},
   "outputs": [],
   "source": [
    "# Select sub-part of DF based on heatmap of correlation\n",
    "google_features = ['adj_close', 'volume', 'dollar_volume', 'obv', 'ma_3_days', 'macd']\n",
    "google_dset = df_google.filter(google_features)\n",
    "google_dset.dropna(axis = 0, inplace = True)\n",
    "print(google_dset.shape)"
   ]
  },
  {
   "cell_type": "code",
   "execution_count": null,
   "id": "6419c6c5",
   "metadata": {},
   "outputs": [],
   "source": [
    "# Split train-test dsets wrt 80% - 20%\n",
    "q_80 = int(len(google_dset) * 0.8)\n",
    "\n",
    "google_train = google_dset[:q_80]\n",
    "google_test = google_dset[q_80:]\n",
    "\n",
    "google_train.shape, google_test.shape"
   ]
  },
  {
   "cell_type": "code",
   "execution_count": null,
   "id": "cf021ccc",
   "metadata": {},
   "outputs": [],
   "source": [
    "# Scale both train and test dsets before training the model\n",
    "scaler = MinMaxScaler(feature_range = (0, 1))\n",
    "google_train_scaled = scaler.fit_transform(google_train)\n",
    "google_test_scaled = scaler.transform(google_test) # transform is selected to avoid data leakage\n",
    "google_train_scaled"
   ]
  },
  {
   "cell_type": "code",
   "execution_count": null,
   "id": "9c90d921",
   "metadata": {},
   "outputs": [],
   "source": [
    "# Reform datasets since it is time series data and will be fed into LSTM model\n",
    "def createXY(dataset, n_past):\n",
    "    dataX = []\n",
    "    dataY = []\n",
    "    for i in range(n_past, len(dataset)):\n",
    "            dataX.append(dataset[i - n_past:i, 0:dataset.shape[1]])\n",
    "            dataY.append(dataset[i,0])\n",
    "    return np.array(dataX),np.array(dataY)\n",
    "\n",
    "trainX, trainY = createXY(google_train_scaled, 21)\n",
    "testX, testY = createXY(google_test_scaled, 21)"
   ]
  },
  {
   "cell_type": "code",
   "execution_count": null,
   "id": "873953aa",
   "metadata": {},
   "outputs": [],
   "source": [
    "# Check dataset shapes are compatible and consistent\n",
    "trainX.shape, trainY.shape, testX.shape, testY.shape"
   ]
  },
  {
   "cell_type": "markdown",
   "id": "1cdd0277",
   "metadata": {},
   "source": [
    "<div style=\"background: linear-gradient(45deg, #FF8C00, #006400); padding: 15px; border-radius: 20px; text-align: center; background-color: black; color: black;\"> <h1 style=\"font-size: 24px;\"> Model Architecture and GridSearchCV</h1>  \n",
    "</div>"
   ]
  },
  {
   "cell_type": "markdown",
   "id": "14e871e6",
   "metadata": {},
   "source": [
    "## !!! GridSearchCV and model training won't be executed in this final notebook version since it takes very long time for my old laptop :("
   ]
  },
  {
   "cell_type": "code",
   "execution_count": null,
   "id": "5ec75c82",
   "metadata": {},
   "outputs": [],
   "source": [
    "def build_model(optimizer):\n",
    "    grid_model = Sequential()\n",
    "    grid_model.add(LSTM(100, return_sequences = True, input_shape = (21, 6)))\n",
    "    grid_model.add(LSTM(50))\n",
    "    grid_model.add(Dropout(0.1))\n",
    "    grid_model.add(Dense(1))\n",
    "    grid_model.compile(loss = 'mse', optimizer = optimizer)\n",
    "    return grid_model\n",
    "\n",
    "\n",
    "grid_model = KerasRegressor(build_fn = build_model,\n",
    "                            verbose = 1, validation_data = (testX, testY))\n",
    "parameters = {'batch_size' : [12, 20, 24],\n",
    "              'epochs' : [15, 20],\n",
    "              'optimizer' : ['adam', 'Adadelta']}\n",
    "grid_search  = GridSearchCV(estimator = grid_model,\n",
    "                            param_grid = parameters,\n",
    "                            cv = 4)"
   ]
  },
  {
   "cell_type": "code",
   "execution_count": null,
   "id": "f4c34fab",
   "metadata": {},
   "outputs": [],
   "source": [
    "grid_search = grid_search.fit(trainX, trainY)"
   ]
  },
  {
   "cell_type": "code",
   "execution_count": null,
   "id": "832c9596",
   "metadata": {
    "scrolled": false
   },
   "outputs": [],
   "source": [
    "grid_search.best_params_"
   ]
  },
  {
   "cell_type": "markdown",
   "id": "916acaca",
   "metadata": {},
   "source": [
    "### GridSearchCV yielded {'batch_size': 12, 'epochs': 20, 'optimizer': 'adam'} as best parameters."
   ]
  },
  {
   "cell_type": "code",
   "execution_count": null,
   "id": "0e70e5cd",
   "metadata": {},
   "outputs": [],
   "source": [
    "# Crate trained model with best parameters yielded from GridSearchCV\n",
    "google_model = grid_search.best_estimator_.model"
   ]
  },
  {
   "cell_type": "code",
   "execution_count": null,
   "id": "5d77c4c6",
   "metadata": {},
   "outputs": [],
   "source": [
    "# Save the model !!!\n",
    "google_model.save('Google-LSTM-Model.h5')\n",
    "print('Model saved to disk :)')"
   ]
  },
  {
   "cell_type": "code",
   "execution_count": null,
   "id": "d29df3df",
   "metadata": {},
   "outputs": [],
   "source": [
    "# Load previously saved model\n",
    "google_model = tf.keras.models.load_model('Google-LSTM-Model.h5')\n",
    "google_model.summary()"
   ]
  },
  {
   "cell_type": "code",
   "execution_count": null,
   "id": "6bd3fb80",
   "metadata": {
    "scrolled": true
   },
   "outputs": [],
   "source": [
    "# Generate prediction and check its size\n",
    "prediction = google_model.predict(testX)\n",
    "\n",
    "print('Prediction Shape :', prediction.shape)"
   ]
  },
  {
   "cell_type": "code",
   "execution_count": null,
   "id": "3184975c",
   "metadata": {},
   "outputs": [],
   "source": [
    "# Change shape to use inverse_transform\n",
    "prediction_array = np.repeat(prediction, 6, axis = -1)\n",
    "original_array = np.repeat(testY, 6, axis = -1)"
   ]
  },
  {
   "cell_type": "code",
   "execution_count": null,
   "id": "c1714789",
   "metadata": {},
   "outputs": [],
   "source": [
    "# We just need the adj_close(1st column) after inverse transform, use [:,0] at the end\n",
    "preds = scaler.inverse_transform(np.reshape(prediction_array,(len(prediction), 6)))[:,0]\n",
    "original = scaler.inverse_transform(np.reshape(original_array,(len(testY), 6)))[:,0]\n",
    "preds.shape, original.shape"
   ]
  },
  {
   "cell_type": "markdown",
   "id": "efa1d6a6",
   "metadata": {},
   "source": [
    "<div style=\"background: linear-gradient(45deg, #FF8C00, #006400); padding: 15px; border-radius: 20px; text-align: center; background-color: black; color: black;\"> <h1 style=\"font-size: 24px;\"> 1st Model Evaluation</h1>  \n",
    "    \n",
    "</div>\n"
   ]
  },
  {
   "cell_type": "code",
   "execution_count": null,
   "id": "f817fed4",
   "metadata": {},
   "outputs": [],
   "source": [
    "# Visualize real and predicted closing price to evaluate model forecasting performance\n",
    "plt.figure(figsize = (10, 6))\n",
    "sns.set_style('whitegrid')\n",
    "\n",
    "plt.plot(original, color = 'gold', label = 'Real Price')\n",
    "plt.plot(preds, color = 'tomato', label = 'Predicted Price')\n",
    "plt.xlabel('Time')\n",
    "plt.ylabel('Google Adjusted Closing Price')\n",
    "plt.title('1st Model: Google Stock Price Prediction', fontweight = 'bold', fontsize = 16)\n",
    "\n",
    "plt.legend()\n",
    "sns.despine()\n",
    "plt.show()"
   ]
  },
  {
   "cell_type": "code",
   "execution_count": null,
   "id": "56beb334",
   "metadata": {},
   "outputs": [],
   "source": [
    "# Calculate common evaluation metrics for forecasting model\n",
    "mae_1 = mean_absolute_error(original, preds).round(4)\n",
    "mape_1 = mean_absolute_percentage_error(original, preds).round(4)\n",
    "R2_1 = r2_score(original, preds).round(4)\n",
    "\n",
    "print('MAE =', mae_1, '\\nMAPE =', mape_1, '\\nR2 score =', R2_1)"
   ]
  },
  {
   "cell_type": "markdown",
   "id": "bf4c1a1a",
   "metadata": {},
   "source": [
    "***\n",
    "***"
   ]
  },
  {
   "cell_type": "markdown",
   "id": "b63465f4",
   "metadata": {},
   "source": [
    "<div style=\"background: linear-gradient(45deg, #FF8C00, #006400); padding: 15px; border-radius: 20px; text-align: center; background-color: black; color: black;\"> <h1 style=\"font-size: 24px;\"> 2nd Model Building & Evaluation</h1>  \n",
    "    \n",
    "</div>\n"
   ]
  },
  {
   "cell_type": "code",
   "execution_count": null,
   "id": "570a6dc6",
   "metadata": {},
   "outputs": [],
   "source": [
    "def build_model(optimizer):\n",
    "    grid_model = Sequential()\n",
    "    grid_model.add(LSTM(128, return_sequences = True, input_shape = (21, 6)))\n",
    "    grid_model.add(LSTM(64))\n",
    "    grid_model.add(Dense(10))\n",
    "    grid_model.add(Dense(1))\n",
    "    grid_model.compile(loss = 'mse', optimizer = optimizer)\n",
    "    return grid_model\n",
    "\n",
    "\n",
    "grid_model = KerasRegressor(build_fn = build_model,\n",
    "                            verbose = 1, validation_data = (testX, testY))\n",
    "parameters = {'batch_size' : [20, 24, 32],\n",
    "              'epochs' : [20, 30], 'optimizer' : ['adam']}\n",
    "grid_search2  = GridSearchCV(estimator = grid_model,\n",
    "                            param_grid = parameters,\n",
    "                            cv = 5)"
   ]
  },
  {
   "cell_type": "code",
   "execution_count": null,
   "id": "b6a3ee56",
   "metadata": {},
   "outputs": [],
   "source": [
    "%%time\n",
    "\n",
    "grid_search2 = grid_search2.fit(trainX, trainY)"
   ]
  },
  {
   "cell_type": "code",
   "execution_count": null,
   "id": "c1dbfe2b",
   "metadata": {
    "scrolled": true
   },
   "outputs": [],
   "source": [
    "grid_search2.best_params_"
   ]
  },
  {
   "cell_type": "markdown",
   "id": "a9d64027",
   "metadata": {},
   "source": [
    "### GridSearchCV yielded {'batch_size': 20, 'epochs': 30, 'optimizer': 'adam'} as best parameters."
   ]
  },
  {
   "cell_type": "code",
   "execution_count": null,
   "id": "237b19cf",
   "metadata": {
    "scrolled": false
   },
   "outputs": [],
   "source": [
    "google_model2 = grid_search2.best_estimator_.model"
   ]
  },
  {
   "cell_type": "code",
   "execution_count": null,
   "id": "3b424a53",
   "metadata": {},
   "outputs": [],
   "source": [
    "google_model2.save('2nd-Google-LSTM-Model.h5')\n",
    "print('Model saved to disk!')"
   ]
  },
  {
   "cell_type": "code",
   "execution_count": null,
   "id": "6df06a9d",
   "metadata": {},
   "outputs": [],
   "source": [
    "# Load previously saved 2nd model\n",
    "google_model2 = tf.keras.models.load_model('2nd-Google-LSTM-Model.h5')\n",
    "google_model2.summary()"
   ]
  },
  {
   "cell_type": "code",
   "execution_count": null,
   "id": "97b668b2",
   "metadata": {},
   "outputs": [],
   "source": [
    "# Generate prediction and check its size\n",
    "prediction2 = google_model2.predict(testX)\n",
    "print('Prediction Shape :', prediction2.shape)"
   ]
  },
  {
   "cell_type": "code",
   "execution_count": null,
   "id": "03eec79d",
   "metadata": {},
   "outputs": [],
   "source": [
    "# Change shape to use inverse_transform\n",
    "prediction_array2 = np.repeat(prediction2, 6, axis = -1)\n",
    "preds2 = scaler.inverse_transform(np.reshape(prediction_array2,(len(prediction2), 6)))[:,0]\n",
    "preds2.shape, original.shape"
   ]
  },
  {
   "cell_type": "code",
   "execution_count": null,
   "id": "bad33d3f",
   "metadata": {
    "scrolled": false
   },
   "outputs": [],
   "source": [
    "# Visualize real and predicted closing price to evaluate model forecasting performance\n",
    "plt.figure(figsize = (10, 6))\n",
    "sns.set_style('whitegrid')\n",
    "\n",
    "plt.plot(original, color = 'gold', label = 'Real Price')\n",
    "plt.plot(preds2, color = 'tomato', label = 'Predicted Price')\n",
    "plt.xlabel('Time')\n",
    "plt.ylabel('Google Adjusted Closing Price')\n",
    "plt.title('2nd Model: Google Stock Price Prediction', fontweight = 'bold', fontsize = 16)\n",
    "plt.legend()\n",
    "\n",
    "sns.despine()\n",
    "plt.show()"
   ]
  },
  {
   "cell_type": "code",
   "execution_count": null,
   "id": "82b52d4c",
   "metadata": {},
   "outputs": [],
   "source": [
    "# Calculate common evaluation metrics for 2nd forecasting model\n",
    "mae_2 = mean_absolute_error(original, preds2).round(4)\n",
    "mape_2 = mean_absolute_percentage_error(original, preds2).round(4)\n",
    "R2_2 = r2_score(original, preds2).round(4)\n",
    "\n",
    "print('MAE =', mae_2, '\\nMAPE =', mape_2, '\\nR2 score =', R2_2)"
   ]
  },
  {
   "cell_type": "markdown",
   "id": "8403e5b8",
   "metadata": {},
   "source": [
    "***\n",
    "***"
   ]
  },
  {
   "cell_type": "markdown",
   "id": "5109c203",
   "metadata": {},
   "source": [
    "<div style=\"background: linear-gradient(45deg, #FF8C00, #006400); padding: 15px; border-radius: 20px; text-align: center; background-color: black; color: black;\"> <h1 style=\"font-size: 24px;\"> 3rd Model Building & Evaluation</h1>  \n",
    "    \n",
    "</div>\n"
   ]
  },
  {
   "cell_type": "code",
   "execution_count": null,
   "id": "19213dd4",
   "metadata": {},
   "outputs": [],
   "source": [
    "def build_model(optimizer):\n",
    "    grid_model = Sequential()\n",
    "    grid_model.add(LSTM(128, return_sequences = True, input_shape = (30, 6)))\n",
    "    grid_model.add(LSTM(64))\n",
    "    grid_model.add(Dense(32))\n",
    "    grid_model.add(Dense(1))\n",
    "    grid_model.compile(loss = 'mse', optimizer = optimizer)\n",
    "    return grid_model\n",
    "\n",
    "\n",
    "grid_model = KerasRegressor(build_fn = build_model,\n",
    "                            verbose = 1, validation_data = (testX, testY))\n",
    "parameters = {'batch_size' : [16, 24, 32],\n",
    "              'epochs' : [24, 30, 32], 'optimizer' : ['adam']}\n",
    "grid_search3  = GridSearchCV(estimator = grid_model, param_grid = parameters, cv = 5)"
   ]
  },
  {
   "cell_type": "code",
   "execution_count": null,
   "id": "d58e6316",
   "metadata": {},
   "outputs": [],
   "source": [
    "%%time\n",
    "\n",
    "grid_search3 = grid_search3.fit(trainX, trainY)"
   ]
  },
  {
   "cell_type": "code",
   "execution_count": null,
   "id": "030b2671",
   "metadata": {},
   "outputs": [],
   "source": [
    "grid_search3.best_params_"
   ]
  },
  {
   "cell_type": "code",
   "execution_count": null,
   "id": "70773617",
   "metadata": {
    "scrolled": false
   },
   "outputs": [],
   "source": [
    "google_model3 = grid_search3.best_estimator_.model"
   ]
  },
  {
   "cell_type": "code",
   "execution_count": null,
   "id": "f84dc963",
   "metadata": {},
   "outputs": [],
   "source": [
    "# Save the model!!!\n",
    "google_model3.save('3rd-Google-LSTM-Model.h5')\n",
    "print('Model saved to disk :)')"
   ]
  },
  {
   "cell_type": "code",
   "execution_count": null,
   "id": "8d5b0a34",
   "metadata": {},
   "outputs": [],
   "source": [
    "# Load previously saved 3rd model\n",
    "google_model3 = tf.keras.models.load_model('3rd-Google-LSTM-Model.h5')\n",
    "google_model3.summary()"
   ]
  },
  {
   "cell_type": "code",
   "execution_count": null,
   "id": "80d9580b",
   "metadata": {},
   "outputs": [],
   "source": [
    "# Generate prediction and check its size\n",
    "prediction3 = google_model3.predict(testX)\n",
    "print('Prediction Shape :', prediction3.shape)"
   ]
  },
  {
   "cell_type": "code",
   "execution_count": null,
   "id": "e3e8e9dc",
   "metadata": {},
   "outputs": [],
   "source": [
    "# Change shape to use inverse_transform\n",
    "prediction_array3 = np.repeat(prediction3, 6, axis = -1)\n",
    "preds3 = scaler.inverse_transform(np.reshape(prediction_array3,(len(prediction3), 6)))[:,0]\n",
    "preds3.shape, original.shape"
   ]
  },
  {
   "cell_type": "code",
   "execution_count": null,
   "id": "68f76f39",
   "metadata": {},
   "outputs": [],
   "source": [
    "# Visualize real and predicted closing price to evaluate model forecasting performance\n",
    "plt.figure(figsize = (10, 6))\n",
    "sns.set_style('whitegrid')\n",
    "\n",
    "plt.plot(original, color = 'gold', label = 'Real Price')\n",
    "plt.plot(preds3, color = 'tomato', label = 'Predicted Price')\n",
    "plt.xlabel('Time')\n",
    "plt.ylabel('Google Adjusted Closing Price')\n",
    "plt.title('3rd Model: Google Stock Price Prediction', fontweight = 'bold', fontsize = 16)\n",
    "plt.legend()\n",
    "\n",
    "sns.despine()\n",
    "plt.show()"
   ]
  },
  {
   "cell_type": "code",
   "execution_count": null,
   "id": "b877041c",
   "metadata": {},
   "outputs": [],
   "source": []
  }
 ],
 "metadata": {
  "kernelspec": {
   "display_name": "Python 3 (ipykernel)",
   "language": "python",
   "name": "python3"
  },
  "language_info": {
   "codemirror_mode": {
    "name": "ipython",
    "version": 3
   },
   "file_extension": ".py",
   "mimetype": "text/x-python",
   "name": "python",
   "nbconvert_exporter": "python",
   "pygments_lexer": "ipython3",
   "version": "3.11.5"
  }
 },
 "nbformat": 4,
 "nbformat_minor": 5
}
